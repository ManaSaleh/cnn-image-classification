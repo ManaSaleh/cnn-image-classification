{
 "cells": [
  {
   "cell_type": "markdown",
   "id": "175fb20f-23a9-4531-9b40-9d60a7e7f11c",
   "metadata": {},
   "source": [
    "### **What is a CNN?**  \n",
    "A Convolutional Neural Network (CNN) is a type of deep learning model designed for processing structured data like images, videos, and audio. CNNs are particularly good at recognizing patterns, such as edges, textures, and shapes, making them powerful for tasks like image classification, object detection, and facial recognition.\n",
    "\n",
    "---"
   ]
  },
  {
   "cell_type": "markdown",
   "id": "ae34b679-33e2-4de0-8423-0213dbe1ebf3",
   "metadata": {},
   "source": [
    "### **How CNNs Work (Layers Overview)**  "
   ]
  },
  {
   "cell_type": "markdown",
   "id": "eb8e8c91-3cf1-41d6-a1db-aeae5b4299db",
   "metadata": {},
   "source": [
    "### [IBM What are convolutional neural networks?](https://www.ibm.com/think/topics/convolutional-neural-networks)"
   ]
  },
  {
   "cell_type": "markdown",
   "id": "b21e55b3-6283-425d-afe8-ed17719babee",
   "metadata": {},
   "source": [
    "1. **Convolutional Layer:**  \n",
    "   - This is the core layer of CNNs. It applies filters (kernels) to the input image to detect features like edges and textures.  \n",
    "   - **Operation:** The filter slides over the image, performing element-wise multiplication and summing the results.  \n",
    "   - **Output:** A feature map highlighting detected patterns.\n",
    "  \n",
    "<img src = 'https://www.ibm.com/content/dam/connectedassets-adobe-cms/worldwide-content/creative-assets/s-migr/ul/g/ed/92/iclh-diagram-convolutional-neural-networks.png'>"
   ]
  },
  {
   "cell_type": "markdown",
   "id": "6ff54be7-7f7c-4b67-a384-f959b5947a99",
   "metadata": {},
   "source": [
    "### [Activation functions in Neural Networks](https://www.geeksforgeeks.org/activation-functions-neural-networks/)"
   ]
  },
  {
   "cell_type": "markdown",
   "id": "83c2f423-e8e1-4d7a-8124-d58713a00f7c",
   "metadata": {},
   "source": [
    "2. **Activation Function (ReLU):**  \n",
    "   - After convolution, the ReLU (Rectified Linear Unit) function is applied to introduce non-linearity. It replaces negative values with zero.\n",
    "\n",
    "\n",
    "<img src= 'https://media.geeksforgeeks.org/wp-content/uploads/20241029120652402777/relu-activation-function.png'>"
   ]
  },
  {
   "cell_type": "markdown",
   "id": "1b9484b5-4267-4bbb-a294-cd2c880e650b",
   "metadata": {},
   "source": [
    "### [Pooling and their types in CNN](https://medium.com/@abhishekjainindore24/pooling-and-their-types-in-cnn-4a4b8a7a4611)"
   ]
  },
  {
   "cell_type": "markdown",
   "id": "5b72dd55-e95e-4aee-9bb4-5f8e3a5f4b8d",
   "metadata": {},
   "source": [
    "3. **Pooling Layer:**  \n",
    "   - Pooling reduces the spatial size of feature maps, making the model more efficient.  \n",
    "   - **Common Types:**  \n",
    "     - Max Pooling: Takes the maximum value in a region.  \n",
    "     - Average Pooling: Takes the average value in a region.\n",
    "    \n",
    "<img src = 'https://miro.medium.com/v2/resize:fit:720/format:webp/0*tvWC0Uar0XD9Dcbs.png'> "
   ]
  },
  {
   "cell_type": "markdown",
   "id": "1e919726-e652-49bc-a9ed-183d8e8c8bd4",
   "metadata": {},
   "source": [
    "### [Convolutional Neural Networks (CNNs) : A Complete Guide](https://medium.com/@alejandro.itoaramendia/convolutional-neural-networks-cnns-a-complete-guide-a803534a1930)"
   ]
  },
  {
   "cell_type": "markdown",
   "id": "be038248-abec-432e-a568-b46265872050",
   "metadata": {},
   "source": [
    "4. **Fully Connected Layer:**  \n",
    "   - After several convolutional and pooling layers, the feature maps are flattened into a vector and fed into fully connected layers for final classification or prediction.\n",
    "  \n",
    "<img src = 'https://miro.medium.com/v2/resize:fit:720/format:webp/1*U9nOagJUzwFUFQW30b-92Q.png'>"
   ]
  },
  {
   "cell_type": "markdown",
   "id": "04a53ab2-7132-4017-984d-57a10a926d6f",
   "metadata": {},
   "source": [
    "### [CNN Building Blocks](https://pyimagesearch.com/2021/05/14/convolutional-neural-networks-cnns-and-layer-types/)"
   ]
  },
  {
   "cell_type": "markdown",
   "id": "49e4e542-243e-41ec-808c-8bb1adf01dc8",
   "metadata": {},
   "source": [
    "5. **Output Layer:**  \n",
    "   - The last layer uses an activation function like Softmax (for multi-class classification) or Sigmoid (for binary classification) to produce probabilities."
   ]
  },
  {
   "cell_type": "markdown",
   "id": "7e89982c-1605-41fd-82fe-69f3f15719d7",
   "metadata": {},
   "source": [
    "---"
   ]
  },
  {
   "cell_type": "markdown",
   "id": "3fb00e9a-3732-44c4-b452-8281275723b5",
   "metadata": {},
   "source": [
    "### **Applications of CNNs**  \n",
    "\n",
    "1. **Image Classification:**  \n",
    "   - Assigning labels to images (e.g., cats vs. dogs).  \n",
    "   - **Example:** MNIST handwritten digit classification.  \n",
    "\n",
    "2. **Object Detection:**  \n",
    "   - Identifying and locating objects within an image.  \n",
    "   - **Example:** YOLO (You Only Look Once), Faster R-CNN.\n",
    "\n",
    "3. **Face Recognition:**  \n",
    "   - Recognizing and verifying faces in images or videos.  \n",
    "   - **Example:** Face unlock in smartphones.\n",
    "\n",
    "4. **Medical Imaging:**  \n",
    "   - Detecting abnormalities in X-rays, MRIs, or CT scans.\n",
    "\n",
    "5. **Self-Driving Cars:**  \n",
    "   - Detecting lanes, obstacles, and traffic signs.  \n",
    "\n",
    "---"
   ]
  },
  {
   "cell_type": "markdown",
   "id": "88d25504-e6a7-44ae-9a37-d647f0e507ba",
   "metadata": {},
   "source": [
    "### Useful Resources  \n",
    "1. **Beginner Tutorials:**  \n",
    "   - [DeepLearning.ai - CNN Course](https://www.deeplearning.ai)  \n",
    "   - [Kaggle CNN Tutorials](https://www.kaggle.com/learn/intro-to-deep-learning)  \n",
    "   \n",
    "2. **Documentation & Guides:**  \n",
    "   - [TensorFlow CNN Guide](https://www.tensorflow.org/tutorials/images)  \n",
    "   - [PyTorch CNN Tutorial](https://pytorch.org/tutorials/beginner/nn_tutorial.html)\n",
    "\n",
    "3. **Research & Articles:**  \n",
    "   - [Medium - CNN Explained](https://medium.com/) (Search for CNN-related articles)  \n",
    "   - [Towards Data Science](https://towardsdatascience.com/)"
   ]
  }
 ],
 "metadata": {
  "kernelspec": {
   "display_name": "Python 3 (ipykernel)",
   "language": "python",
   "name": "python3"
  },
  "language_info": {
   "codemirror_mode": {
    "name": "ipython",
    "version": 3
   },
   "file_extension": ".py",
   "mimetype": "text/x-python",
   "name": "python",
   "nbconvert_exporter": "python",
   "pygments_lexer": "ipython3",
   "version": "3.12.4"
  }
 },
 "nbformat": 4,
 "nbformat_minor": 5
}
