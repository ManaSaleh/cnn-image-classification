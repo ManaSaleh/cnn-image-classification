{
 "cells": [
  {
   "cell_type": "markdown",
   "id": "88f799c1-cb85-47e5-b4bd-db3f95c2d1a6",
   "metadata": {},
   "source": [
    "### **Step 1: Import Libraries and Load Data**  \n",
    "We need to import necessary libraries and load the MNIST dataset, which contains handwritten digit images."
   ]
  },
  {
   "cell_type": "code",
   "execution_count": 1,
   "id": "e9a44a57-31ce-429d-b97f-ddc83271bb6c",
   "metadata": {},
   "outputs": [],
   "source": [
    "import tensorflow as tf\n",
    "from tensorflow.keras.datasets import mnist\n",
    "import matplotlib.pyplot as plt"
   ]
  },
  {
   "cell_type": "code",
   "execution_count": 2,
   "id": "d1c976df-e290-4c74-990a-670addae50b5",
   "metadata": {},
   "outputs": [],
   "source": [
    "# Load the MNIST dataset\n",
    "(train_images, train_labels), (test_images, test_labels) = mnist.load_data()"
   ]
  },
  {
   "cell_type": "code",
   "execution_count": 3,
   "id": "36a31ce8-8e6d-46dc-8fc4-4d7d83476771",
   "metadata": {},
   "outputs": [
    {
     "name": "stdout",
     "output_type": "stream",
     "text": [
      "Training images shape: (60000, 28, 28)\n",
      "Training labels shape: (60000,)\n",
      "Test images shape: (10000, 28, 28)\n",
      "Test labels shape: (10000,)\n"
     ]
    }
   ],
   "source": [
    "print(f\"Training images shape: {train_images.shape}\")\n",
    "print(f\"Training labels shape: {train_labels.shape}\")\n",
    "print(f\"Test images shape: {test_images.shape}\")\n",
    "print(f\"Test labels shape: {test_labels.shape}\")"
   ]
  },
  {
   "cell_type": "markdown",
   "id": "0627e96e-3097-460f-9040-c90f700cc10b",
   "metadata": {},
   "source": [
    "1. **Libraries:**\n",
    "   - `tensorflow`: For creating and training the CNN.\n",
    "   - `matplotlib.pyplot`: For visualizing data.\n",
    "\n",
    "2. **Load Data:**  \n",
    "   - `mnist.load_data()` loads the MNIST dataset.  \n",
    "   - `train_images` and `train_labels`: Training data and labels.  \n",
    "   - `test_images` and `test_labels`: Testing data and labels.  \n",
    "\n",
    "3. **Check Shapes:**  \n",
    "   - The dataset consists of 60,000 training and 10,000 testing samples, with images of size 28x28 pixels.\n",
    "\n",
    "---"
   ]
  },
  {
   "cell_type": "markdown",
   "id": "fced6c14-5d89-446c-a938-9a1953a1fcb2",
   "metadata": {},
   "source": [
    "### **Step 2: Data Preprocessing**  \n",
    "\n",
    "To train a CNN, we need to preprocess the MNIST data by:  \n",
    "1. Reshaping the images to fit the input format of the CNN.  \n",
    "2. Normalizing the pixel values to a range of 0 to 1."
   ]
  },
  {
   "cell_type": "code",
   "execution_count": 4,
   "id": "9cc8616f-5a4c-4ee4-932d-97e3465c299e",
   "metadata": {},
   "outputs": [],
   "source": [
    "# Reshape the images to (28, 28, 1) for CNN input\n",
    "train_images = train_images.reshape(train_images.shape[0], 28, 28, 1).astype('float32')\n",
    "test_images = test_images.reshape(test_images.shape[0], 28, 28, 1).astype('float32')"
   ]
  },
  {
   "cell_type": "code",
   "execution_count": 5,
   "id": "e61ea0ce-5879-4e76-ba90-1da8da939f35",
   "metadata": {},
   "outputs": [],
   "source": [
    "# Normalize the pixel values to range [0, 1]\n",
    "train_images /= 255.0\n",
    "test_images /= 255.0"
   ]
  },
  {
   "cell_type": "code",
   "execution_count": 6,
   "id": "f4bd7dc8-b810-4671-9cfb-32611fe19ab9",
   "metadata": {},
   "outputs": [
    {
     "name": "stdout",
     "output_type": "stream",
     "text": [
      "Reshaped training images: (60000, 28, 28, 1)\n",
      "Reshaped test images: (10000, 28, 28, 1)\n"
     ]
    }
   ],
   "source": [
    "print(f\"Reshaped training images: {train_images.shape}\")\n",
    "print(f\"Reshaped test images: {test_images.shape}\")"
   ]
  },
  {
   "cell_type": "markdown",
   "id": "891b0009-09a9-4464-a8ae-31ecbc263b2c",
   "metadata": {},
   "source": [
    "1. **Reshaping:**  \n",
    "   - CNNs expect input data to have a shape of `(number of samples, height, width, channels)`.  \n",
    "   - Since MNIST images are grayscale, `channels=1`.  \n",
    "   - We reshape the training and test images to `(28, 28, 1)`.\n",
    "\n",
    "2. **Normalization:**  \n",
    "   - Pixel values range from 0 to 255.  \n",
    "   - Dividing by 255.0 scales the values to the range `[0, 1]`, improving training efficiency.\n",
    "\n",
    "---"
   ]
  },
  {
   "cell_type": "markdown",
   "id": "230738cd-994f-490a-be9c-c7d5e0c361f0",
   "metadata": {},
   "source": [
    "### **Step 3: Build the CNN Model**  \n",
    "\n",
    "We will create a CNN model using TensorFlow's `Sequential` class and add layers using the `add` method."
   ]
  },
  {
   "cell_type": "code",
   "execution_count": 12,
   "id": "dfc36de8-aaa0-4363-8b5f-21c17e682310",
   "metadata": {},
   "outputs": [],
   "source": [
    "from tensorflow.keras import models, layers"
   ]
  },
  {
   "cell_type": "markdown",
   "id": "038fdd04-d6a6-4476-b8fd-e1ca57697274",
   "metadata": {},
   "source": [
    "1. **Model Initialization:**  \n",
    "   - We create a Sequential model using `models.Sequential()`."
   ]
  },
  {
   "cell_type": "code",
   "execution_count": 13,
   "id": "3bb181fa-5c13-4c35-a474-4e4a7e780f87",
   "metadata": {},
   "outputs": [],
   "source": [
    "# Initialize the CNN model\n",
    "model = models.Sequential()"
   ]
  },
  {
   "cell_type": "markdown",
   "id": "68b2caff-be4c-43e8-8279-73b5c5b25d69",
   "metadata": {},
   "source": [
    "2. **Input Layer:**  \n",
    "   - `layers.InputLayer(input_shape=(28, 28, 1))` defines the shape of input images explicitly.  \n",
    "   - This is useful when separating model architecture from layers or when defining more complex models."
   ]
  },
  {
   "cell_type": "code",
   "execution_count": 14,
   "id": "acd98ab5-31be-4cd2-8f07-883d5954d02d",
   "metadata": {},
   "outputs": [],
   "source": [
    "# Add the Input Layer\n",
    "model.add(layers.InputLayer(input_shape=(28, 28, 1)))"
   ]
  },
  {
   "cell_type": "markdown",
   "id": "3ddaf2b3-c0ff-4cac-8a12-912fad77ece1",
   "metadata": {},
   "source": [
    "3. **Convolutional Layers:**  \n",
    "   - `Conv2D(32, (3, 3), activation='relu', input_shape=(28, 28, 1))`:  \n",
    "     - Adds a convolutional layer with 32 filters of size 3x3.  \n",
    "     - `activation='relu'` introduces non-linearity.  \n",
    "     - `input_shape=(28, 28, 1)` specifies input image size.  "
   ]
  },
  {
   "cell_type": "code",
   "execution_count": 16,
   "id": "8710c394-3cc7-43b5-89bf-63fd7cce519e",
   "metadata": {},
   "outputs": [],
   "source": [
    "# Add the first Convolutional Layer\n",
    "model.add(layers.Conv2D(32, (3, 3), activation='relu'))"
   ]
  },
  {
   "cell_type": "markdown",
   "id": "24929986-4c15-405a-929c-19947dbce377",
   "metadata": {},
   "source": [
    "4. **Pooling Layers:**  \n",
    "   - `MaxPooling2D((2, 2))` reduces the size of feature maps by taking the maximum value in a 2x2 window, reducing computation and controlling overfitting.  "
   ]
  },
  {
   "cell_type": "code",
   "execution_count": 17,
   "id": "d5c11ac8-5c02-43a0-99f0-173cc297a7b9",
   "metadata": {},
   "outputs": [],
   "source": [
    "# Add a MaxPooling Layer\n",
    "model.add(layers.MaxPooling2D((2, 2)))"
   ]
  },
  {
   "cell_type": "code",
   "execution_count": 18,
   "id": "7aae3343-33c7-485e-bbce-669bab15891d",
   "metadata": {},
   "outputs": [],
   "source": [
    "# Add a second Convolutional Layer\n",
    "model.add(layers.Conv2D(64, (3, 3), activation='relu'))"
   ]
  },
  {
   "cell_type": "code",
   "execution_count": 19,
   "id": "a6166091-cde6-4bd3-88d3-111ec1952c0d",
   "metadata": {},
   "outputs": [],
   "source": [
    "# Add another MaxPooling Layer\n",
    "model.add(layers.MaxPooling2D((2, 2)))"
   ]
  },
  {
   "cell_type": "code",
   "execution_count": 20,
   "id": "e6ab87d8-ff59-482e-b90d-23ad5e241027",
   "metadata": {},
   "outputs": [],
   "source": [
    "# Add a third Convolutional Layer\n",
    "model.add(layers.Conv2D(64, (3, 3), activation='relu'))"
   ]
  },
  {
   "cell_type": "markdown",
   "id": "580341ae-2041-41e3-8a19-b1c210aac5f1",
   "metadata": {},
   "source": [
    "5. **Flatten Layer:**  \n",
    "   - Converts the 2D feature maps into a 1D vector to input into the dense layers."
   ]
  },
  {
   "cell_type": "code",
   "execution_count": 21,
   "id": "54039cb8-7b47-4532-a4f8-0862b4650294",
   "metadata": {},
   "outputs": [],
   "source": [
    "# Flatten the feature maps\n",
    "model.add(layers.Flatten())"
   ]
  },
  {
   "cell_type": "markdown",
   "id": "c870b47f-37c0-4cdb-9413-dd0c696de9ac",
   "metadata": {},
   "source": [
    "6. **Fully Connected Layer:**  \n",
    "   - `Dense(64, activation='relu')` learns high-level features from the flattened input.  "
   ]
  },
  {
   "cell_type": "code",
   "execution_count": 22,
   "id": "1ef8c345-9ed4-4044-80e9-cbbfc78cc8cc",
   "metadata": {},
   "outputs": [],
   "source": [
    "# Add a Fully Connected Layer\n",
    "model.add(layers.Dense(64, activation='relu'))"
   ]
  },
  {
   "cell_type": "markdown",
   "id": "dcc17513-86ee-41ea-903f-8d9892ec347e",
   "metadata": {},
   "source": [
    "7. **Output Layer:**  \n",
    "   - `Dense(10, activation='softmax')`: Produces 10 output classes (digits 0-9), with probabilities using the Softmax function."
   ]
  },
  {
   "cell_type": "code",
   "execution_count": 23,
   "id": "678b3233-dff8-41a7-9f97-0fc6a12d552e",
   "metadata": {},
   "outputs": [],
   "source": [
    "# Add the Output Layer\n",
    "model.add(layers.Dense(10, activation='softmax'))"
   ]
  },
  {
   "cell_type": "code",
   "execution_count": 24,
   "id": "834e0b6e-b208-4fd1-a2f1-5ff605e88a99",
   "metadata": {},
   "outputs": [
    {
     "data": {
      "text/html": [
       "<pre style=\"white-space:pre;overflow-x:auto;line-height:normal;font-family:Menlo,'DejaVu Sans Mono',consolas,'Courier New',monospace\"><span style=\"font-weight: bold\">Model: \"sequential_1\"</span>\n",
       "</pre>\n"
      ],
      "text/plain": [
       "\u001b[1mModel: \"sequential_1\"\u001b[0m\n"
      ]
     },
     "metadata": {},
     "output_type": "display_data"
    },
    {
     "data": {
      "text/html": [
       "<pre style=\"white-space:pre;overflow-x:auto;line-height:normal;font-family:Menlo,'DejaVu Sans Mono',consolas,'Courier New',monospace\">┏━━━━━━━━━━━━━━━━━━━━━━━━━━━━━━━━━┳━━━━━━━━━━━━━━━━━━━━━━━━┳━━━━━━━━━━━━━━━┓\n",
       "┃<span style=\"font-weight: bold\"> Layer (type)                    </span>┃<span style=\"font-weight: bold\"> Output Shape           </span>┃<span style=\"font-weight: bold\">       Param # </span>┃\n",
       "┡━━━━━━━━━━━━━━━━━━━━━━━━━━━━━━━━━╇━━━━━━━━━━━━━━━━━━━━━━━━╇━━━━━━━━━━━━━━━┩\n",
       "│ conv2d_2 (<span style=\"color: #0087ff; text-decoration-color: #0087ff\">Conv2D</span>)               │ (<span style=\"color: #00d7ff; text-decoration-color: #00d7ff\">None</span>, <span style=\"color: #00af00; text-decoration-color: #00af00\">26</span>, <span style=\"color: #00af00; text-decoration-color: #00af00\">26</span>, <span style=\"color: #00af00; text-decoration-color: #00af00\">32</span>)     │           <span style=\"color: #00af00; text-decoration-color: #00af00\">320</span> │\n",
       "├─────────────────────────────────┼────────────────────────┼───────────────┤\n",
       "│ conv2d_3 (<span style=\"color: #0087ff; text-decoration-color: #0087ff\">Conv2D</span>)               │ (<span style=\"color: #00d7ff; text-decoration-color: #00d7ff\">None</span>, <span style=\"color: #00af00; text-decoration-color: #00af00\">24</span>, <span style=\"color: #00af00; text-decoration-color: #00af00\">24</span>, <span style=\"color: #00af00; text-decoration-color: #00af00\">32</span>)     │         <span style=\"color: #00af00; text-decoration-color: #00af00\">9,248</span> │\n",
       "├─────────────────────────────────┼────────────────────────┼───────────────┤\n",
       "│ max_pooling2d (<span style=\"color: #0087ff; text-decoration-color: #0087ff\">MaxPooling2D</span>)    │ (<span style=\"color: #00d7ff; text-decoration-color: #00d7ff\">None</span>, <span style=\"color: #00af00; text-decoration-color: #00af00\">12</span>, <span style=\"color: #00af00; text-decoration-color: #00af00\">12</span>, <span style=\"color: #00af00; text-decoration-color: #00af00\">32</span>)     │             <span style=\"color: #00af00; text-decoration-color: #00af00\">0</span> │\n",
       "├─────────────────────────────────┼────────────────────────┼───────────────┤\n",
       "│ conv2d_4 (<span style=\"color: #0087ff; text-decoration-color: #0087ff\">Conv2D</span>)               │ (<span style=\"color: #00d7ff; text-decoration-color: #00d7ff\">None</span>, <span style=\"color: #00af00; text-decoration-color: #00af00\">10</span>, <span style=\"color: #00af00; text-decoration-color: #00af00\">10</span>, <span style=\"color: #00af00; text-decoration-color: #00af00\">64</span>)     │        <span style=\"color: #00af00; text-decoration-color: #00af00\">18,496</span> │\n",
       "├─────────────────────────────────┼────────────────────────┼───────────────┤\n",
       "│ max_pooling2d_1 (<span style=\"color: #0087ff; text-decoration-color: #0087ff\">MaxPooling2D</span>)  │ (<span style=\"color: #00d7ff; text-decoration-color: #00d7ff\">None</span>, <span style=\"color: #00af00; text-decoration-color: #00af00\">5</span>, <span style=\"color: #00af00; text-decoration-color: #00af00\">5</span>, <span style=\"color: #00af00; text-decoration-color: #00af00\">64</span>)       │             <span style=\"color: #00af00; text-decoration-color: #00af00\">0</span> │\n",
       "├─────────────────────────────────┼────────────────────────┼───────────────┤\n",
       "│ conv2d_5 (<span style=\"color: #0087ff; text-decoration-color: #0087ff\">Conv2D</span>)               │ (<span style=\"color: #00d7ff; text-decoration-color: #00d7ff\">None</span>, <span style=\"color: #00af00; text-decoration-color: #00af00\">3</span>, <span style=\"color: #00af00; text-decoration-color: #00af00\">3</span>, <span style=\"color: #00af00; text-decoration-color: #00af00\">64</span>)       │        <span style=\"color: #00af00; text-decoration-color: #00af00\">36,928</span> │\n",
       "├─────────────────────────────────┼────────────────────────┼───────────────┤\n",
       "│ flatten (<span style=\"color: #0087ff; text-decoration-color: #0087ff\">Flatten</span>)               │ (<span style=\"color: #00d7ff; text-decoration-color: #00d7ff\">None</span>, <span style=\"color: #00af00; text-decoration-color: #00af00\">576</span>)            │             <span style=\"color: #00af00; text-decoration-color: #00af00\">0</span> │\n",
       "├─────────────────────────────────┼────────────────────────┼───────────────┤\n",
       "│ dense (<span style=\"color: #0087ff; text-decoration-color: #0087ff\">Dense</span>)                   │ (<span style=\"color: #00d7ff; text-decoration-color: #00d7ff\">None</span>, <span style=\"color: #00af00; text-decoration-color: #00af00\">64</span>)             │        <span style=\"color: #00af00; text-decoration-color: #00af00\">36,928</span> │\n",
       "├─────────────────────────────────┼────────────────────────┼───────────────┤\n",
       "│ dense_1 (<span style=\"color: #0087ff; text-decoration-color: #0087ff\">Dense</span>)                 │ (<span style=\"color: #00d7ff; text-decoration-color: #00d7ff\">None</span>, <span style=\"color: #00af00; text-decoration-color: #00af00\">10</span>)             │           <span style=\"color: #00af00; text-decoration-color: #00af00\">650</span> │\n",
       "└─────────────────────────────────┴────────────────────────┴───────────────┘\n",
       "</pre>\n"
      ],
      "text/plain": [
       "┏━━━━━━━━━━━━━━━━━━━━━━━━━━━━━━━━━┳━━━━━━━━━━━━━━━━━━━━━━━━┳━━━━━━━━━━━━━━━┓\n",
       "┃\u001b[1m \u001b[0m\u001b[1mLayer (type)                   \u001b[0m\u001b[1m \u001b[0m┃\u001b[1m \u001b[0m\u001b[1mOutput Shape          \u001b[0m\u001b[1m \u001b[0m┃\u001b[1m \u001b[0m\u001b[1m      Param #\u001b[0m\u001b[1m \u001b[0m┃\n",
       "┡━━━━━━━━━━━━━━━━━━━━━━━━━━━━━━━━━╇━━━━━━━━━━━━━━━━━━━━━━━━╇━━━━━━━━━━━━━━━┩\n",
       "│ conv2d_2 (\u001b[38;5;33mConv2D\u001b[0m)               │ (\u001b[38;5;45mNone\u001b[0m, \u001b[38;5;34m26\u001b[0m, \u001b[38;5;34m26\u001b[0m, \u001b[38;5;34m32\u001b[0m)     │           \u001b[38;5;34m320\u001b[0m │\n",
       "├─────────────────────────────────┼────────────────────────┼───────────────┤\n",
       "│ conv2d_3 (\u001b[38;5;33mConv2D\u001b[0m)               │ (\u001b[38;5;45mNone\u001b[0m, \u001b[38;5;34m24\u001b[0m, \u001b[38;5;34m24\u001b[0m, \u001b[38;5;34m32\u001b[0m)     │         \u001b[38;5;34m9,248\u001b[0m │\n",
       "├─────────────────────────────────┼────────────────────────┼───────────────┤\n",
       "│ max_pooling2d (\u001b[38;5;33mMaxPooling2D\u001b[0m)    │ (\u001b[38;5;45mNone\u001b[0m, \u001b[38;5;34m12\u001b[0m, \u001b[38;5;34m12\u001b[0m, \u001b[38;5;34m32\u001b[0m)     │             \u001b[38;5;34m0\u001b[0m │\n",
       "├─────────────────────────────────┼────────────────────────┼───────────────┤\n",
       "│ conv2d_4 (\u001b[38;5;33mConv2D\u001b[0m)               │ (\u001b[38;5;45mNone\u001b[0m, \u001b[38;5;34m10\u001b[0m, \u001b[38;5;34m10\u001b[0m, \u001b[38;5;34m64\u001b[0m)     │        \u001b[38;5;34m18,496\u001b[0m │\n",
       "├─────────────────────────────────┼────────────────────────┼───────────────┤\n",
       "│ max_pooling2d_1 (\u001b[38;5;33mMaxPooling2D\u001b[0m)  │ (\u001b[38;5;45mNone\u001b[0m, \u001b[38;5;34m5\u001b[0m, \u001b[38;5;34m5\u001b[0m, \u001b[38;5;34m64\u001b[0m)       │             \u001b[38;5;34m0\u001b[0m │\n",
       "├─────────────────────────────────┼────────────────────────┼───────────────┤\n",
       "│ conv2d_5 (\u001b[38;5;33mConv2D\u001b[0m)               │ (\u001b[38;5;45mNone\u001b[0m, \u001b[38;5;34m3\u001b[0m, \u001b[38;5;34m3\u001b[0m, \u001b[38;5;34m64\u001b[0m)       │        \u001b[38;5;34m36,928\u001b[0m │\n",
       "├─────────────────────────────────┼────────────────────────┼───────────────┤\n",
       "│ flatten (\u001b[38;5;33mFlatten\u001b[0m)               │ (\u001b[38;5;45mNone\u001b[0m, \u001b[38;5;34m576\u001b[0m)            │             \u001b[38;5;34m0\u001b[0m │\n",
       "├─────────────────────────────────┼────────────────────────┼───────────────┤\n",
       "│ dense (\u001b[38;5;33mDense\u001b[0m)                   │ (\u001b[38;5;45mNone\u001b[0m, \u001b[38;5;34m64\u001b[0m)             │        \u001b[38;5;34m36,928\u001b[0m │\n",
       "├─────────────────────────────────┼────────────────────────┼───────────────┤\n",
       "│ dense_1 (\u001b[38;5;33mDense\u001b[0m)                 │ (\u001b[38;5;45mNone\u001b[0m, \u001b[38;5;34m10\u001b[0m)             │           \u001b[38;5;34m650\u001b[0m │\n",
       "└─────────────────────────────────┴────────────────────────┴───────────────┘\n"
      ]
     },
     "metadata": {},
     "output_type": "display_data"
    },
    {
     "data": {
      "text/html": [
       "<pre style=\"white-space:pre;overflow-x:auto;line-height:normal;font-family:Menlo,'DejaVu Sans Mono',consolas,'Courier New',monospace\"><span style=\"font-weight: bold\"> Total params: </span><span style=\"color: #00af00; text-decoration-color: #00af00\">102,570</span> (400.66 KB)\n",
       "</pre>\n"
      ],
      "text/plain": [
       "\u001b[1m Total params: \u001b[0m\u001b[38;5;34m102,570\u001b[0m (400.66 KB)\n"
      ]
     },
     "metadata": {},
     "output_type": "display_data"
    },
    {
     "data": {
      "text/html": [
       "<pre style=\"white-space:pre;overflow-x:auto;line-height:normal;font-family:Menlo,'DejaVu Sans Mono',consolas,'Courier New',monospace\"><span style=\"font-weight: bold\"> Trainable params: </span><span style=\"color: #00af00; text-decoration-color: #00af00\">102,570</span> (400.66 KB)\n",
       "</pre>\n"
      ],
      "text/plain": [
       "\u001b[1m Trainable params: \u001b[0m\u001b[38;5;34m102,570\u001b[0m (400.66 KB)\n"
      ]
     },
     "metadata": {},
     "output_type": "display_data"
    },
    {
     "data": {
      "text/html": [
       "<pre style=\"white-space:pre;overflow-x:auto;line-height:normal;font-family:Menlo,'DejaVu Sans Mono',consolas,'Courier New',monospace\"><span style=\"font-weight: bold\"> Non-trainable params: </span><span style=\"color: #00af00; text-decoration-color: #00af00\">0</span> (0.00 B)\n",
       "</pre>\n"
      ],
      "text/plain": [
       "\u001b[1m Non-trainable params: \u001b[0m\u001b[38;5;34m0\u001b[0m (0.00 B)\n"
      ]
     },
     "metadata": {},
     "output_type": "display_data"
    }
   ],
   "source": [
    "# Print the model summary\n",
    "model.summary()"
   ]
  },
  {
   "cell_type": "markdown",
   "id": "8c3addc2-47dc-4d55-9810-c85baaf45482",
   "metadata": {},
   "source": [
    "---"
   ]
  },
  {
   "cell_type": "markdown",
   "id": "3fb7ec08-8cb5-491e-af0f-b79b1b8ec49a",
   "metadata": {},
   "source": [
    "### **Step 4: Compile the Model**  \n",
    "\n",
    "We need to compile the model before training it. During compilation, we specify:  \n",
    "\n",
    "1. **Optimizer:** Controls how the model updates weights (we'll use `adam`).  \n",
    "2. **Loss Function:** Measures how well the model performs (we'll use `sparse_categorical_crossentropy` since labels are integers).  \n",
    "3. **Metrics:** Evaluates the model's performance during training (we'll use `accuracy`)."
   ]
  },
  {
   "cell_type": "code",
   "execution_count": 25,
   "id": "5e4760ca-5389-41b7-8c14-ba3cc9b204c9",
   "metadata": {},
   "outputs": [
    {
     "name": "stdout",
     "output_type": "stream",
     "text": [
      "Model compiled successfully.\n"
     ]
    }
   ],
   "source": [
    "model.compile(optimizer='adam',\n",
    "              loss='sparse_categorical_crossentropy',\n",
    "              metrics=['accuracy'])\n",
    "\n",
    "print(\"Model compiled successfully.\")"
   ]
  },
  {
   "cell_type": "markdown",
   "id": "3f1023c5-c80d-4073-a695-e4ba646c5a26",
   "metadata": {
    "jp-MarkdownHeadingCollapsed": true
   },
   "source": [
    "1. **Optimizer:**  \n",
    "   - `adam` is an adaptive optimizer that adjusts the learning rate during training, making it efficient and widely used.\n",
    "\n",
    "2. **Loss Function:**  \n",
    "   - `sparse_categorical_crossentropy` compares predicted probabilities to true labels. It's used for multi-class classification where labels are integers.\n",
    "\n",
    "3. **Metrics:**  \n",
    "   - `accuracy` tracks the percentage of correctly classified images.\n",
    "\n",
    "---"
   ]
  },
  {
   "cell_type": "markdown",
   "id": "7de216a9-7f81-4cf5-8a17-78bcf0cae60c",
   "metadata": {},
   "source": [
    "### **Step 5: Train the Model**  \n",
    "\n",
    "We’ll train the CNN using the training dataset by:  \n",
    "\n",
    "1. **Specifying Training Data:** Input images and corresponding labels.  \n",
    "2. **Validation Data:** Use test data to evaluate the model during training.  \n",
    "3. **Epochs:** Number of complete passes through the dataset (we’ll use 5).  \n",
    "4. **Batch Size:** Number of samples processed before updating the model (we’ll use 64).  "
   ]
  },
  {
   "cell_type": "markdown",
   "id": "bcb1e83d-609e-4450-b583-f571635c3019",
   "metadata": {},
   "source": [
    "---"
   ]
  },
  {
   "cell_type": "code",
   "execution_count": 27,
   "id": "5b95c365-a0ba-4faa-9a1f-c6d49d086af4",
   "metadata": {},
   "outputs": [
    {
     "name": "stdout",
     "output_type": "stream",
     "text": [
      "Epoch 1/5\n",
      "\u001b[1m938/938\u001b[0m \u001b[32m━━━━━━━━━━━━━━━━━━━━\u001b[0m\u001b[37m\u001b[0m \u001b[1m6s\u001b[0m 6ms/step - accuracy: 0.9742 - loss: 0.0817 - val_accuracy: 0.9898 - val_loss: 0.0316\n",
      "Epoch 2/5\n",
      "\u001b[1m938/938\u001b[0m \u001b[32m━━━━━━━━━━━━━━━━━━━━\u001b[0m\u001b[37m\u001b[0m \u001b[1m3s\u001b[0m 3ms/step - accuracy: 0.9878 - loss: 0.0393 - val_accuracy: 0.9885 - val_loss: 0.0350\n",
      "Epoch 3/5\n",
      "\u001b[1m938/938\u001b[0m \u001b[32m━━━━━━━━━━━━━━━━━━━━\u001b[0m\u001b[37m\u001b[0m \u001b[1m3s\u001b[0m 3ms/step - accuracy: 0.9905 - loss: 0.0297 - val_accuracy: 0.9903 - val_loss: 0.0311\n",
      "Epoch 4/5\n",
      "\u001b[1m938/938\u001b[0m \u001b[32m━━━━━━━━━━━━━━━━━━━━\u001b[0m\u001b[37m\u001b[0m \u001b[1m3s\u001b[0m 3ms/step - accuracy: 0.9926 - loss: 0.0232 - val_accuracy: 0.9923 - val_loss: 0.0241\n",
      "Epoch 5/5\n",
      "\u001b[1m938/938\u001b[0m \u001b[32m━━━━━━━━━━━━━━━━━━━━\u001b[0m\u001b[37m\u001b[0m \u001b[1m3s\u001b[0m 3ms/step - accuracy: 0.9947 - loss: 0.0169 - val_accuracy: 0.9917 - val_loss: 0.0299\n",
      "Model training complete.\n"
     ]
    }
   ],
   "source": [
    "history = model.fit(train_images, train_labels, \n",
    "                    epochs=5, \n",
    "                    batch_size=64, \n",
    "                    validation_data=(test_images, test_labels))\n",
    "\n",
    "print(\"Model training complete.\")"
   ]
  },
  {
   "cell_type": "markdown",
   "id": "e87ccf4f-9da3-4206-a508-2672558b7305",
   "metadata": {
    "jp-MarkdownHeadingCollapsed": true
   },
   "source": [
    "1. **Model Training:**  \n",
    "   - `model.fit()` trains the CNN using the training dataset.  \n",
    "\n",
    "2. **Parameters:**  \n",
    "   - `train_images, train_labels`: Training data and labels.  \n",
    "   - `epochs=5`: Model goes through the dataset 5 times.  \n",
    "   - `batch_size=64`: Model processes 64 images at a time before updating.  \n",
    "   - `validation_data=(test_images, test_labels)`: Evaluates performance on the test dataset after each epoch.\n",
    "\n",
    "3. **Training Output:**  \n",
    "   - The training process will display metrics like loss and accuracy for both training and validation sets.\n",
    "\n",
    "---"
   ]
  },
  {
   "cell_type": "markdown",
   "id": "9c311a3a-4fc4-4a7e-bd47-62ecc496999d",
   "metadata": {},
   "source": [
    "### **Step 6: Evaluate the Model**  \n",
    "\n",
    "After training, we’ll evaluate the model’s performance on the test dataset by checking its accuracy and loss."
   ]
  },
  {
   "cell_type": "code",
   "execution_count": 28,
   "id": "a3d92ef3-050c-4a55-8149-a01059115741",
   "metadata": {},
   "outputs": [
    {
     "name": "stdout",
     "output_type": "stream",
     "text": [
      "\u001b[1m313/313\u001b[0m \u001b[32m━━━━━━━━━━━━━━━━━━━━\u001b[0m\u001b[37m\u001b[0m \u001b[1m1s\u001b[0m 963us/step - accuracy: 0.9894 - loss: 0.0405\n",
      "Test Accuracy: 99.17%\n",
      "Test Loss: 0.0299\n"
     ]
    }
   ],
   "source": [
    "# Evaluate the model\n",
    "test_loss, test_accuracy = model.evaluate(test_images, test_labels)\n",
    "\n",
    "print(f\"Test Accuracy: {test_accuracy * 100:.2f}%\")\n",
    "print(f\"Test Loss: {test_loss:.4f}\")"
   ]
  },
  {
   "cell_type": "markdown",
   "id": "f68e1a7c-6987-4836-a38b-d8110fced64a",
   "metadata": {
    "jp-MarkdownHeadingCollapsed": true
   },
   "source": [
    "1. **Evaluation:**  \n",
    "   - `model.evaluate()` calculates the model’s accuracy and loss on the test set.  \n",
    "\n",
    "2. **Metrics Returned:**  \n",
    "   - `test_loss`: The final loss on the test set.  \n",
    "   - `test_accuracy`: The percentage of correctly classified test images.\n",
    "\n",
    "---"
   ]
  },
  {
   "cell_type": "markdown",
   "id": "866437c1-1115-4c42-bfcc-b272cb62117e",
   "metadata": {},
   "source": [
    "### **Step 7: Visualize Training and Validation Loss**  \n",
    "\n",
    "We’ll plot the training and validation loss over epochs to see how the model performed during training."
   ]
  },
  {
   "cell_type": "code",
   "execution_count": 34,
   "id": "6dc17e91-469d-4788-bdad-6bad2f8c4000",
   "metadata": {},
   "outputs": [],
   "source": [
    "train_loss = history.history['loss']\n",
    "val_loss = history.history['val_loss']\n",
    "epochs_range = range(1, len(train_loss) + 1)"
   ]
  },
  {
   "cell_type": "code",
   "execution_count": 36,
   "id": "6a4feb13-38d9-41ef-9319-6c631cc37f8b",
   "metadata": {},
   "outputs": [
    {
     "data": {
      "image/png": "[encoded data removed]",
      "text/plain": [
       "<Figure size 1000x600 with 1 Axes>"
      ]
     },
     "metadata": {},
     "output_type": "display_data"
    }
   ],
   "source": [
    "plt.figure(figsize=(10, 6))\n",
    "plt.plot(epochs_range, train_loss, label='Training Loss')\n",
    "plt.plot(epochs_range, val_loss, label='Validation Loss')\n",
    "plt.title(\"Training and Validation Loss\")\n",
    "plt.xlabel(\"Epochs\")\n",
    "plt.ylabel(\"Loss\")\n",
    "plt.legend()\n",
    "plt.grid(True)\n",
    "plt.show()"
   ]
  },
  {
   "cell_type": "markdown",
   "id": "bbf31600-dcf0-4ef7-99a8-bd161c7bdfd5",
   "metadata": {},
   "source": [
    "1. **Extract Loss Data:**  \n",
    "   - `history.history['loss']`: Training loss after each epoch.  \n",
    "   - `history.history['val_loss']`: Validation loss after each epoch.\n",
    "\n",
    "2. **Plot the Loss:**  \n",
    "   - Use `plt.plot()` to visualize the loss curves.  \n",
    "   - Add labels, title, and a legend for clarity.  \n",
    "   - Enable grid lines for better readability.\n",
    "\n",
    "---"
   ]
  },
  {
   "cell_type": "markdown",
   "id": "0bb2dcb1-6cc8-4592-a4c4-37c00e3138e9",
   "metadata": {},
   "source": [
    "### **Step 9: Visualize Predictions**  \n",
    "\n",
    "We’ll visualize some test images along with the model’s predictions to see how well the CNN performs."
   ]
  },
  {
   "cell_type": "code",
   "execution_count": 29,
   "id": "35e35ddc-75ed-40e0-8ac9-938f9370d092",
   "metadata": {},
   "outputs": [],
   "source": [
    "import numpy as np"
   ]
  },
  {
   "cell_type": "code",
   "execution_count": 30,
   "id": "c56e61a3-11f3-4577-b695-989e3342b3a8",
   "metadata": {},
   "outputs": [
    {
     "name": "stdout",
     "output_type": "stream",
     "text": [
      "\u001b[1m313/313\u001b[0m \u001b[32m━━━━━━━━━━━━━━━━━━━━\u001b[0m\u001b[37m\u001b[0m \u001b[1m1s\u001b[0m 1ms/step\n"
     ]
    }
   ],
   "source": [
    "# Make predictions\n",
    "predictions = model.predict(test_images)"
   ]
  },
  {
   "cell_type": "code",
   "execution_count": 31,
   "id": "4731faa1-18ec-462e-abeb-7e9acfd89fc6",
   "metadata": {},
   "outputs": [],
   "source": [
    "# Function to plot images and predictions"
   ]
  },
  {
   "cell_type": "code",
   "execution_count": 32,
   "id": "76dd4512-87a7-4b18-8362-0ff27cf928a5",
   "metadata": {},
   "outputs": [],
   "source": [
    "def plot_image(i, predictions_array, true_label, img):\n",
    "    plt.grid(False)\n",
    "    plt.xticks([])\n",
    "    plt.yticks([])\n",
    "\n",
    "    plt.imshow(img[..., 0], cmap=plt.cm.binary)\n",
    "\n",
    "    predicted_label = np.argmax(predictions_array)\n",
    "    color = 'green' if predicted_label == true_label else 'red'\n",
    "\n",
    "    plt.xlabel(f\"Predicted: {predicted_label} (True: {true_label})\", color=color)"
   ]
  },
  {
   "cell_type": "code",
   "execution_count": 33,
   "id": "d04ee3bb-0bb1-4763-8c00-762a92a45af0",
   "metadata": {},
   "outputs": [
    {
     "data": {
      "image/png": "[encoded data removed]",
      "text/plain": [
       "<Figure size 1200x600 with 10 Axes>"
      ]
     },
     "metadata": {},
     "output_type": "display_data"
    }
   ],
   "source": [
    "# Plot 10 test images with predictions\n",
    "plt.figure(figsize=(12, 6))\n",
    "for i in range(10):\n",
    "    plt.subplot(2, 5, i + 1)\n",
    "    plot_image(i, predictions[i], test_labels[i], test_images[i])\n",
    "\n",
    "plt.show()"
   ]
  },
  {
   "cell_type": "markdown",
   "id": "89e10816-0a20-4448-8182-9ac8f93eedd4",
   "metadata": {},
   "source": [
    "1. **Predictions:**  \n",
    "   - `model.predict(test_images)` returns probability distributions for each image.  \n",
    "\n",
    "2. **Visualization:**  \n",
    "   - We define a function `plot_image()` to display:  \n",
    "     - Test image using `imshow()`.  \n",
    "     - Predicted and true labels.  \n",
    "     - Green text if the prediction is correct, red if incorrect.  \n",
    "\n",
    "3. **Display:**  \n",
    "   - The first 10 test images are displayed with predictions and true labels.\n",
    "\n",
    "---"
   ]
  },
  {
   "cell_type": "markdown",
   "id": "12d2f583-6921-4000-aca8-cb4765b3b796",
   "metadata": {},
   "source": [
    "### **Visualizing CNN with CNN Explainer**  \n",
    "\n",
    "The [CNN Explainer](https://poloclub.github.io/cnn-explainer/) is an interactive web-based tool that visually explains how a CNN works. It demonstrates key concepts like convolution, activation functions, pooling, and fully connected layers.\n",
    "\n",
    "---\n",
    "\n",
    "**How to Explore CNN Explainer:**  \n",
    "\n",
    "1. **Open the Tool:**  \n",
    "   - Visit [CNN Explainer](https://poloclub.github.io/cnn-explainer/) in your web browser.\n",
    "\n",
    "2. **Explore the Sections:**  \n",
    "   - **Input Layer:** Upload or use sample images to see how data enters the network.\n",
    "   - **Convolutional Layer:** Watch how filters detect patterns like edges or textures.\n",
    "   - **Activation Layer (ReLU):** See how negative values are removed to introduce non-linearity.\n",
    "   - **Pooling Layer:** Observe how max pooling reduces spatial dimensions.\n",
    "   - **Fully Connected Layer:** Understand how features are flattened and connected to output predictions.\n",
    "   - **Output Layer:** See class predictions and confidence scores.\n",
    "\n",
    "---"
   ]
  }
 ],
 "metadata": {
  "kernelspec": {
   "display_name": "Python 3 (ipykernel)",
   "language": "python",
   "name": "python3"
  },
  "language_info": {
   "codemirror_mode": {
    "name": "ipython",
    "version": 3
   },
   "file_extension": ".py",
   "mimetype": "text/x-python",
   "name": "python",
   "nbconvert_exporter": "python",
   "pygments_lexer": "ipython3",
   "version": "3.12.4"
  }
 },
 "nbformat": 4,
 "nbformat_minor": 5
}
